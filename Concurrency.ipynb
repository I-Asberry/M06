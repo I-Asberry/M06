{
 "cells": [
  {
   "cell_type": "code",
   "execution_count": 12,
   "metadata": {},
   "outputs": [],
   "source": [
    "#13.1\n",
    "from datetime import datetime\n",
    "\n",
    "current_datetime = datetime.now().strftime(\"%Y %m %d\")\n",
    "str_current_datetime = str(current_datetime)\n",
    "\n",
    "file = open(\"today.txt\", 'w')\n",
    "file.write(str_current_datetime)\n",
    "file.close()\n"
   ]
  },
  {
   "cell_type": "code",
   "execution_count": 10,
   "metadata": {},
   "outputs": [
    {
     "name": "stdout",
     "output_type": "stream",
     "text": [
      "2023-10-01\n"
     ]
    }
   ],
   "source": [
    "#13.2\n",
    "from pathlib import Path\n",
    "\n",
    "today_string = Path(\"today.txt\").read_text()\n",
    "print(today_string)"
   ]
  },
  {
   "cell_type": "code",
   "execution_count": 14,
   "metadata": {},
   "outputs": [
    {
     "data": {
      "text/plain": [
       "datetime.datetime(2023, 10, 1, 0, 0)"
      ]
     },
     "execution_count": 14,
     "metadata": {},
     "output_type": "execute_result"
    }
   ],
   "source": [
    "#13.3\n",
    "datetime.strptime(today_string, '%Y-%m-%d')"
   ]
  },
  {
   "cell_type": "code",
   "execution_count": 42,
   "metadata": {},
   "outputs": [
    {
     "name": "stdout",
     "output_type": "stream",
     "text": [
      "Current time: 23:18:23\n",
      "Current time: 23:18:24\n",
      "Current time: 23:18:24\n"
     ]
    }
   ],
   "source": [
    "#15.1\n",
    "import multiprocessing\n",
    "import time\n",
    "import random\n",
    "from datetime import datetime\n",
    "\n",
    "def process():\n",
    "   current = datetime.now()\n",
    "   current_time = current.strftime(\"%H:%M:%S\")\n",
    "   print(\"Current time: {}\".format(current_time))\n",
    "   time.sleep(random.randint(0,1))\n",
    "\n",
    "\n",
    "start = time.time()\n",
    "\n",
    "\n",
    "if __name__==\"__main__\":\n",
    "   p1 = multiprocessing.Process(target=process())\n",
    "   p2 = multiprocessing.Process(target=process())\n",
    "   p3 = multiprocessing.Process(target=process())\n",
    "\n",
    "   p1.start()\n",
    "   p2.start()\n",
    "   p3.start()\n",
    "\n",
    "   p1.join()\n",
    "   p2.join()\n",
    "   p3.join()"
   ]
  }
 ],
 "metadata": {
  "kernelspec": {
   "display_name": "Python 3",
   "language": "python",
   "name": "python3"
  },
  "language_info": {
   "codemirror_mode": {
    "name": "ipython",
    "version": 3
   },
   "file_extension": ".py",
   "mimetype": "text/x-python",
   "name": "python",
   "nbconvert_exporter": "python",
   "pygments_lexer": "ipython3",
   "version": "3.11.5"
  },
  "orig_nbformat": 4
 },
 "nbformat": 4,
 "nbformat_minor": 2
}
